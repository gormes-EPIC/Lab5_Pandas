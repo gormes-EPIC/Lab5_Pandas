{
 "cells": [
  {
   "cell_type": "markdown",
   "metadata": {},
   "source": [
    "# Lab 5: pandas\n",
    "Complete the following 2 problems using your knowledge of `DataFrames`. You will need the `pandas` library and the `matplotlib.pylab` library.\n",
    "\n",
    "**Rubric**\n",
    "- 4 points: Completes both problems as described\n",
    "- 3 points: Completes one of the problems as described\n",
    "- 2 points: Missing or incomplete\n"
   ]
  },
  {
   "cell_type": "markdown",
   "metadata": {},
   "source": [
    "## Problem 1: Population Data \n",
    "In this example we will fetch data about countries and their population from [Wikipedia](http://en.wikipedia.org/wiki/List_of_countries_by_past_and_future_population).\n",
    "\n",
    "I have done the web scraping and creation of a `DataFrame`,`df_a`."
   ]
  },
  {
   "cell_type": "code",
   "execution_count": null,
   "metadata": {},
   "outputs": [],
   "source": [
    "import numpy as np\n",
    "import pandas as pd\n",
    "import requests\n",
    "from bs4 import BeautifulSoup\n",
    "\n",
    "\n",
    "url = 'http://en.wikipedia.org/wiki/List_of_countries_by_past_and_future_population'\n",
    "page = requests.get(url)\n",
    "soup = BeautifulSoup(page.content, \"html.parser\")\n",
    "\n",
    "tbody = soup.find_all(\"tbody\")\n",
    "tr = tbody[0].find_all(\"tr\")\n",
    "arr = []\n",
    "mat = []\n",
    "for t in tr:\n",
    "    lst = t.text.split(\"\\n\")\n",
    "    for l in lst:\n",
    "        if l == \"\":\n",
    "            if arr != []:\n",
    "                arr = arr[0:2] + arr[2::2]\n",
    "                mat.append(arr)\n",
    "                arr = []\n",
    "        else:\n",
    "            try: \n",
    "                arr.append(int(l.lstrip('\\xa0').replace(\",\",\"\")))\n",
    "            except ValueError:\n",
    "                arr.append(str(l.lstrip('\\xa0').replace(\",\",\"\")))\n",
    "titles = mat[0]\n",
    "titles[0] = \"countries\"\n",
    "mat = mat[1:]\n",
    "df_a = pd.DataFrame.from_records(mat, columns=titles) \n"
   ]
  },
  {
   "cell_type": "markdown",
   "metadata": {},
   "source": [
    "### Investigating DataFrames\n",
    "Write code in the boxes below to display the following information:\n",
    "\n",
    "\n",
    "1. The number of records `df_a`"
   ]
  },
  {
   "cell_type": "code",
   "execution_count": null,
   "metadata": {},
   "outputs": [],
   "source": []
  },
  {
   "cell_type": "markdown",
   "metadata": {},
   "source": [
    "2. The last 11 rows of `df_a`"
   ]
  },
  {
   "cell_type": "code",
   "execution_count": null,
   "metadata": {},
   "outputs": [],
   "source": []
  },
  {
   "cell_type": "markdown",
   "metadata": {},
   "source": [
    "3. A 5 number summary of `df_a`"
   ]
  },
  {
   "cell_type": "code",
   "execution_count": null,
   "metadata": {},
   "outputs": [],
   "source": []
  },
  {
   "cell_type": "markdown",
   "metadata": {},
   "source": [
    "4. How is the `DataFrame` currently indexed? If it is not already, make the `countries` column the index."
   ]
  },
  {
   "cell_type": "code",
   "execution_count": null,
   "metadata": {},
   "outputs": [],
   "source": []
  },
  {
   "cell_type": "markdown",
   "metadata": {},
   "source": [
    "5. What is the largest population listed for 1970?"
   ]
  },
  {
   "cell_type": "code",
   "execution_count": null,
   "metadata": {},
   "outputs": [],
   "source": []
  },
  {
   "cell_type": "markdown",
   "metadata": {},
   "source": [
    "6. What was the country for that entry?"
   ]
  },
  {
   "cell_type": "code",
   "execution_count": null,
   "metadata": {},
   "outputs": [],
   "source": []
  },
  {
   "cell_type": "markdown",
   "metadata": {},
   "source": [
    "7. What was the population of Austria from 1950-1980?"
   ]
  },
  {
   "cell_type": "code",
   "execution_count": null,
   "metadata": {},
   "outputs": [],
   "source": []
  },
  {
   "cell_type": "markdown",
   "metadata": {},
   "source": [
    "8. What was the population of France in 1965?"
   ]
  },
  {
   "cell_type": "code",
   "execution_count": null,
   "metadata": {},
   "outputs": [],
   "source": []
  },
  {
   "cell_type": "markdown",
   "metadata": {},
   "source": [
    "9. What was the population in 1980 of the 200th country on the list?"
   ]
  },
  {
   "cell_type": "code",
   "execution_count": null,
   "metadata": {},
   "outputs": [],
   "source": []
  },
  {
   "cell_type": "markdown",
   "metadata": {},
   "source": [
    "### Sorting and Joining Tables\n",
    "\n",
    "10. What 5 entries had the highest population in 1970? Display their records."
   ]
  },
  {
   "cell_type": "code",
   "execution_count": null,
   "metadata": {},
   "outputs": [],
   "source": []
  },
  {
   "cell_type": "markdown",
   "metadata": {},
   "source": [
    "11. Excluding the world, what 5 countries had the highest population in 1970? Display their records."
   ]
  },
  {
   "cell_type": "code",
   "execution_count": null,
   "metadata": {},
   "outputs": [],
   "source": []
  },
  {
   "cell_type": "markdown",
   "metadata": {},
   "source": [
    "Below is code to scrape two more tables off of Wikipedia: World Populations from 1985-2015 and World Populations from 2020-2050. They are stored as the `DataFrames` `df_b` and `df_c` respectively. Use these two `DataFrames ` to answer the remaining questions."
   ]
  },
  {
   "cell_type": "code",
   "execution_count": null,
   "metadata": {},
   "outputs": [],
   "source": [
    "for i in range(2):\n",
    "    tbody = soup.find_all(\"tbody\")\n",
    "    tr = tbody[i+1].find_all(\"tr\")\n",
    "    arr = []\n",
    "    mat = []\n",
    "    for t in tr:\n",
    "        lst = t.text.split(\"\\n\")\n",
    "        for l in lst:\n",
    "            if l == \"\":\n",
    "                if arr != []:\n",
    "                    arr = [arr[0]] + arr[1::2]\n",
    "                    mat.append(arr)\n",
    "                    arr = []\n",
    "            else:\n",
    "                try: \n",
    "                    arr.append(int(l.lstrip('\\xa0').replace(\",\",\"\")))\n",
    "                except ValueError:\n",
    "                    arr.append(str(l.lstrip('\\xa0').replace(\",\",\"\")))\n",
    "    titles = mat[0]\n",
    "    titles[0] = \"countries\"\n",
    "    mat = mat[1:]\n",
    "    if i == 0: df_b = pd.DataFrame.from_records(mat, columns=titles) \n",
    "    else: df_c = pd.DataFrame.from_records(mat, columns=titles) \n",
    "\n",
    "df_b.set_index('countries', inplace=True) \n",
    "df_c.set_index('countries', inplace=True) \n",
    "# where df_a is 1950-1980, df_b is 1985-2015, df_c is 2020-2050"
   ]
  },
  {
   "cell_type": "markdown",
   "metadata": {},
   "source": [
    "12. What are the dimensions of these two `DataFrames`? "
   ]
  },
  {
   "cell_type": "code",
   "execution_count": null,
   "metadata": {},
   "outputs": [],
   "source": []
  },
  {
   "cell_type": "markdown",
   "metadata": {},
   "source": [
    "13. Combine all three tables into a `DataFrame ` called `df` that stores a country's population from 1950-2050 and display its first 5 entries."
   ]
  },
  {
   "cell_type": "code",
   "execution_count": null,
   "metadata": {},
   "outputs": [],
   "source": []
  },
  {
   "cell_type": "markdown",
   "metadata": {},
   "source": [
    "14. What was country with the smallest population in 2000?"
   ]
  },
  {
   "cell_type": "code",
   "execution_count": null,
   "metadata": {},
   "outputs": [],
   "source": []
  },
  {
   "cell_type": "markdown",
   "metadata": {},
   "source": [
    "15. What was the mean population in 2005?"
   ]
  },
  {
   "cell_type": "code",
   "execution_count": null,
   "metadata": {},
   "outputs": [],
   "source": []
  },
  {
   "cell_type": "markdown",
   "metadata": {},
   "source": [
    "### Plotting with Matplotlib\n",
    "We are going to use `matplotlib` to visualize our data. \n",
    "\n",
    "Import it below."
   ]
  },
  {
   "cell_type": "code",
   "execution_count": null,
   "metadata": {},
   "outputs": [],
   "source": []
  },
  {
   "cell_type": "markdown",
   "metadata": {},
   "source": [
    "Create a plot with `plot()` to compare the population of Austria, Germany, United States, and France from 1950-2050. Your graph needs to include a  proper title, axis labels, and legend."
   ]
  },
  {
   "cell_type": "code",
   "execution_count": null,
   "metadata": {},
   "outputs": [],
   "source": []
  },
  {
   "cell_type": "markdown",
   "metadata": {},
   "source": [
    "#### Challenge(Optional): Plot 5 most populous countries from 2010 and 2050\n",
    "Display a plot of the population from 1950-2050 of the 5 most populous countries from 2010 side-by-side with a plot of the population from 1950-2050 of the 5 most populous countries from 2050"
   ]
  },
  {
   "cell_type": "code",
   "execution_count": null,
   "metadata": {},
   "outputs": [],
   "source": []
  },
  {
   "cell_type": "markdown",
   "metadata": {},
   "source": [
    "## Problem 2: Rotten Tomatoes Database"
   ]
  },
  {
   "cell_type": "markdown",
   "metadata": {},
   "source": [
    "We are going to use a dataset of Rotten Tomatoes scores. I have imported it for you, as the `DataFrame` called `movies`."
   ]
  },
  {
   "cell_type": "code",
   "execution_count": null,
   "metadata": {},
   "outputs": [],
   "source": [
    "# Get this one from the internet but also use the IMDB one\n",
    "from io import StringIO  \n",
    "movie_txt = requests.get('https://raw.github.com/cs109/cs109_data/master/movies.dat').text\n",
    "movie_file = StringIO(movie_txt) # treat a string like a file\n",
    "movies = pd.read_csv(movie_file, delimiter='\\t')\n"
   ]
  },
  {
   "cell_type": "markdown",
   "metadata": {},
   "source": [
    "1. What do each of the columns of this `DataFrame` mean? Fill in the following box with a short description of each of the columns. Be specific!\n",
    "\n",
    "If you need some help [look at the README](https://files.grouplens.org/datasets/hetrec2011/hetrec2011-movielens-readme.txt) for the dataset."
   ]
  },
  {
   "cell_type": "markdown",
   "metadata": {},
   "source": [
    "- \n",
    "- \n",
    "- \n",
    "- "
   ]
  },
  {
   "cell_type": "markdown",
   "metadata": {},
   "source": [
    "2. Set the column `id` as the index for the dataset."
   ]
  },
  {
   "cell_type": "code",
   "execution_count": null,
   "metadata": {},
   "outputs": [],
   "source": []
  },
  {
   "cell_type": "markdown",
   "metadata": {},
   "source": [
    "3. We want to make a plot of the top 10 highest rated movies on Rotten Tomatoes by Audience Score. Sort the table by `rtAudienceScore` and make a plot of the top 10 movies. What happens?\n",
    "\n",
    "\n",
    "*Matplotlib tip: use `plt.bar(df['x_col'], df['y_col'],...)` then use other matplotlib methods to add important features to the graph*"
   ]
  },
  {
   "cell_type": "code",
   "execution_count": null,
   "metadata": {},
   "outputs": [],
   "source": []
  },
  {
   "cell_type": "markdown",
   "metadata": {},
   "source": [
    "4. What has happened to our plot? How can we remove our empty values? Remove those values and try it again?"
   ]
  },
  {
   "cell_type": "code",
   "execution_count": null,
   "metadata": {},
   "outputs": [],
   "source": []
  },
  {
   "cell_type": "markdown",
   "metadata": {},
   "source": [
    "5. Does this plot look right? What other rows might we want to exclude or columns we might want to sort by, so our top 10 list looks more similar to other lists."
   ]
  },
  {
   "cell_type": "code",
   "execution_count": null,
   "metadata": {},
   "outputs": [],
   "source": []
  },
  {
   "cell_type": "markdown",
   "metadata": {},
   "source": [
    "6. We want to know what years the most popular movies were made in. In the box below, rewrite our question/statement as something that is is specific and answerable using our dataset. There is no one \"correct\" answer here. "
   ]
  },
  {
   "cell_type": "markdown",
   "metadata": {},
   "source": [
    "New question:"
   ]
  },
  {
   "cell_type": "markdown",
   "metadata": {},
   "source": [
    "7. Create a plot that answers your new question."
   ]
  },
  {
   "cell_type": "code",
   "execution_count": null,
   "metadata": {},
   "outputs": [],
   "source": []
  },
  {
   "cell_type": "markdown",
   "metadata": {},
   "source": [
    "8. What if we want to balance audience and critics scores? Create a new column called `rtWeightedScores` to store a movies' overall weighted average score of 70% Top Critics Scores and 30% Audience Scores.  "
   ]
  },
  {
   "cell_type": "code",
   "execution_count": null,
   "metadata": {},
   "outputs": [],
   "source": []
  },
  {
   "cell_type": "markdown",
   "metadata": {},
   "source": [
    "9. Create a histogram to show the number of movies with each weighted score. Your \"buckets\" should be from 0-10 and go up by 0.5. "
   ]
  },
  {
   "cell_type": "code",
   "execution_count": null,
   "metadata": {},
   "outputs": [],
   "source": []
  },
  {
   "cell_type": "markdown",
   "metadata": {},
   "source": [
    "10. What are the top 10 movies based on our new list?"
   ]
  },
  {
   "cell_type": "code",
   "execution_count": null,
   "metadata": {},
   "outputs": [],
   "source": []
  }
 ],
 "metadata": {
  "kernelspec": {
   "display_name": "base",
   "language": "python",
   "name": "python3"
  },
  "language_info": {
   "codemirror_mode": {
    "name": "ipython",
    "version": 3
   },
   "file_extension": ".py",
   "mimetype": "text/x-python",
   "name": "python",
   "nbconvert_exporter": "python",
   "pygments_lexer": "ipython3",
   "version": "3.11.5"
  }
 },
 "nbformat": 4,
 "nbformat_minor": 2
}
